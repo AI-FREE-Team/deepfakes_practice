{
  "nbformat": 4,
  "nbformat_minor": 0,
  "metadata": {
    "colab": {
      "provenance": [],
      "gpuType": "T4"
    },
    "kernelspec": {
      "name": "python3",
      "display_name": "Python 3"
    },
    "language_info": {
      "name": "python"
    },
    "accelerator": "GPU"
  },
  "cells": [
    {
      "cell_type": "markdown",
      "source": [
        "![人工智慧 - 自由團隊](https://raw.githubusercontent.com/chenkenanalytic/img/master/af/aifreeteam.png)\n",
        "\n",
        "<center>Welcome to the practice《DeepFakes》by AI . FREE Team.</center>\n",
        "<br>\n",
        "<center>歡迎大家來到 AI . FREE Team 《深偽換臉》實作；本實作與喝采設計合作開發。 </center>\n",
        "<br>\n",
        "\n",
        "<center>(Author: Chen Ken；Date of published: 2023/7/31；AI . FREE Team)</center>\n",
        "<center>(Reference: https://github.com/s0md3v/roop) </center>\n",
        "<br>\n",
        "\n",
        "<center>※註：本實作僅供課程學習用途，請勿做不法用途。※</center>\n",
        "<br>\n",
        "\n",
        "\n"
      ],
      "metadata": {
        "id": "JRgsbK8Tlgrk"
      }
    },
    {
      "cell_type": "code",
      "execution_count": 1,
      "metadata": {
        "cellView": "form",
        "id": "Nbq16m9mCJic"
      },
      "outputs": [],
      "source": [
        "#@title STEP 1. 安裝程式碼 (約 1-3 mins)\n",
        "!git clone https://github.com/s0md3v/roop.git\n",
        "%cd /content/roop\n",
        "!git checkout 3d02b267663e4badc5c7936d5295effcae3dfbc0\n",
        "!pip install -r requirements.txt\n",
        "from IPython.display import clear_output\n",
        "clear_output()"
      ]
    },
    {
      "cell_type": "code",
      "source": [
        "#@title STEP 2. 上傳換臉的照片 (jpg or png)\n",
        "%cd /content\n",
        "from google.colab import files\n",
        "uploaded1 = files.upload()\n",
        "image_path = '/content/'+list(uploaded1.keys())[0]\n",
        "clear_output()\n",
        "if image_path.endswith('.png') or image_path.endswith('.jpg')or image_path.endswith('.JPG')or image_path.endswith('.PNG'):\n",
        "  print('照片上傳成功')\n",
        "else:\n",
        "  print('照片上傳失敗，請重新確認照片格式是否為 png or jpg 檔...')"
      ],
      "metadata": {
        "colab": {
          "base_uri": "https://localhost:8080/",
          "height": 88
        },
        "cellView": "form",
        "id": "Xyjqrwy0FsML",
        "outputId": "00da745a-9e82-435a-f9b7-582c3bc3b015"
      },
      "execution_count": 11,
      "outputs": [
        {
          "output_type": "stream",
          "name": "stdout",
          "text": [
            "照片上傳成功\n"
          ]
        }
      ]
    },
    {
      "cell_type": "code",
      "source": [
        "#@title STEP 3. 上傳換臉的影片 (mp4)\n",
        "%cd /content\n",
        "from google.colab import files\n",
        "uploaded2 = files.upload()\n",
        "video_path = '/content/'+list(uploaded2.keys())[0]\n",
        "clear_output()\n",
        "if video_path.endswith('.mp4') or video_path.endswith('.MP4'):\n",
        "  print('影片上傳成功')\n",
        "else:\n",
        "  print('影片上傳失敗，請重新確認影片格式是否為 mp4 檔...')"
      ],
      "metadata": {
        "colab": {
          "base_uri": "https://localhost:8080/",
          "height": 88
        },
        "outputId": "ee8699e4-cf76-4281-ec86-c6f11ac255a5",
        "cellView": "form",
        "id": "Zivn3ETsel4p"
      },
      "execution_count": 12,
      "outputs": [
        {
          "output_type": "stream",
          "name": "stdout",
          "text": [
            "影片上傳成功\n"
          ]
        }
      ]
    },
    {
      "cell_type": "code",
      "source": [
        "#@title STEP 4. 執行換臉 (處理時間依影片大小與長度而異，10秒影片/2.5MB/1080P 約需7-10分鐘)\n",
        "%cd /content/roop\n",
        "output = '/content/output.mp4'\n",
        "device = \"cuda\"\n",
        "processor = \"face_swapper face_enhancer\"\n",
        "videoEncoder = \"libvpx\"\n",
        "videoQuality = \"51\"\n",
        "keepFPS =\"--keep-fps\"\n",
        "keepAudio =\"--keep-audio\"\n",
        "keepFrames =\"--keep-frames\"\n",
        "manyFaces =\"--many-faces\"\n",
        "\n",
        "cmd = f\"\"\"run.py --execution-provider {device} -s \"{image_path}\" -t \"{video_path}\" -o {output} --frame-processor {processor}\n",
        "--video-encoder {videoEncoder} --video-quality {videoQuality} {keepFPS} {keepAudio} {keepFrames} {manyFaces}\"\"\"\n",
        "\n",
        "!python $cmd\n",
        "clear_output()\n",
        "\n",
        "from IPython.display import HTML\n",
        "from base64 import b64encode\n",
        "import os\n",
        "if os.path.exists('/content/output.mp4'):\n",
        "  mp4 = open('/content/output.mp4','rb').read()\n",
        "  data_url = \"data:video/mp4;base64,\" + b64encode(mp4).decode()\n",
        "else:\n",
        "  print('影片製作失敗，請執行 STEP 1-3 再做嘗試。')\n",
        "HTML(\"\"\"\n",
        "<video width=1000 controls>\n",
        "      <source src=\"%s\" type=\"video/mp4\">\n",
        "</video>\n",
        "\"\"\" % data_url)"
      ],
      "metadata": {
        "cellView": "form",
        "id": "MD7vu-ktELg6"
      },
      "execution_count": null,
      "outputs": []
    }
  ]
}